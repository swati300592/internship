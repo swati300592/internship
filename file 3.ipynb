{
 "cells": [
  {
   "cell_type": "markdown",
   "id": "91bbc638",
   "metadata": {},
   "source": [
    "# Question 1- Write a Python program to replace all occurrences of a space, comma, or dot with a colon.\n"
   ]
  },
  {
   "cell_type": "code",
   "execution_count": 2,
   "id": "7068e7f9",
   "metadata": {},
   "outputs": [
    {
     "name": "stdout",
     "output_type": "stream",
     "text": [
      "Enter a string: 'Python Exercises, PHP exercises.'\n",
      "Modified string: 'Python:Exercises::PHP:exercises:'\n"
     ]
    }
   ],
   "source": [
    "data = input(\"Enter a string: \")\n",
    "new_data = data.replace(' ', ':').replace(',',':').replace('.',':')\n",
    "print(\"Modified string:\", new_data)"
   ]
  },
  {
   "cell_type": "markdown",
   "id": "83067550",
   "metadata": {},
   "source": [
    "# Question 2-  Write a Python program to find all words starting with 'a' or 'e' in a given string."
   ]
  },
  {
   "cell_type": "code",
   "execution_count": 3,
   "id": "e1350318",
   "metadata": {},
   "outputs": [
    {
     "name": "stdout",
     "output_type": "stream",
     "text": [
      "Enter a string: an apple in a day \n",
      "Words starting with 'a' or 'e': ['an', 'apple', 'a']\n"
     ]
    }
   ],
   "source": [
    "a = input(\"Enter a string: \")\n",
    "words = a.split()\n",
    "b= [word for word in words if word.lower().startswith('a') or word.lower().startswith('e')]\n",
    "print(\"Words starting with 'a' or 'e':\", b)"
   ]
  },
  {
   "cell_type": "markdown",
   "id": "cacc0a9b",
   "metadata": {},
   "source": [
    "# Question 3- Create a function in python to find all words that are at least 4 characters long in a string.\n",
    "# The use of the re.compile() method is mandatory."
   ]
  },
  {
   "cell_type": "code",
   "execution_count": 5,
   "id": "8f7a1559",
   "metadata": {},
   "outputs": [
    {
     "name": "stdout",
     "output_type": "stream",
     "text": [
      "Enter a string: a river is a great source of drinking water for all living\n",
      "Words with at least 4 characters: ['river', 'great', 'source', 'drinking', 'water', 'living']\n"
     ]
    }
   ],
   "source": [
    "import re\n",
    "\n",
    "a= input(\"Enter a string: \")\n",
    "new_sent = re.compile(r'\\b\\w{4,}\\b')\n",
    "b = new_sent.findall(a)\n",
    "print(\"Words with at least 4 characters:\",b)"
   ]
  },
  {
   "cell_type": "markdown",
   "id": "beef77d8",
   "metadata": {},
   "source": [
    "# Question 4- Create a function in python to find all three, four, and five character words in a string. \n",
    "# The use of the re.compile() method is mandatory."
   ]
  },
  {
   "cell_type": "code",
   "execution_count": 6,
   "id": "2f51e81c",
   "metadata": {},
   "outputs": [
    {
     "name": "stdout",
     "output_type": "stream",
     "text": [
      "Enter a string: India has a power of new inovation ideas \n",
      "Words with three, four, or five characters: ['India', 'has', 'power', 'new', 'ideas']\n"
     ]
    }
   ],
   "source": [
    "import re\n",
    "\n",
    "x = input(\"Enter a string: \")\n",
    "y = re.findall(r'\\b\\w{3,5}\\b', x)\n",
    "print(\"Words with three, four, or five characters:\", y)"
   ]
  },
  {
   "cell_type": "markdown",
   "id": "3d5337bf",
   "metadata": {},
   "source": [
    "# Question 5- Create a function in Python to remove the parenthesis in a list of strings. \n",
    "# The use of the re.compile() method is mandatory."
   ]
  },
  {
   "cell_type": "code",
   "execution_count": 7,
   "id": "0569331e",
   "metadata": {},
   "outputs": [
    {
     "name": "stdout",
     "output_type": "stream",
     "text": [
      "Hey \n",
      "math \n",
      "cs \n"
     ]
    }
   ],
   "source": [
    "import re\n",
    "\n",
    "x = [\"Hey (rahul)\", \"math (problems)\", \"cs (computer science)\"]\n",
    "y = [re.sub(r'\\([^)]*\\)', '', string) for string in x]\n",
    "\n",
    "for string in y:\n",
    "    print(string)"
   ]
  },
  {
   "cell_type": "markdown",
   "id": "67ad82c6",
   "metadata": {},
   "source": [
    "# Question 6- Write a python program to remove the parenthesis area from the text stored in the text file using Regular Expression."
   ]
  },
  {
   "cell_type": "code",
   "execution_count": 8,
   "id": "d15d48e4",
   "metadata": {},
   "outputs": [
    {
     "name": "stdout",
     "output_type": "stream",
     "text": [
      "Hey. This is a amit.\n"
     ]
    }
   ],
   "source": [
    "import re\n",
    "x = \"Hey (World). This is a amit (example).\"\n",
    "y = re.sub(r'\\s*\\([^)]*\\)', '', x)\n",
    "\n",
    "print(y)"
   ]
  },
  {
   "cell_type": "markdown",
   "id": "3c5cdff6",
   "metadata": {},
   "source": [
    "# Question 7- Write a regular expression in Python to split a string into uppercase letters.\n"
   ]
  },
  {
   "cell_type": "code",
   "execution_count": 7,
   "id": "ecaa017e",
   "metadata": {},
   "outputs": [
    {
     "name": "stdout",
     "output_type": "stream",
     "text": [
      "['Importance', 'Of', 'Regular', 'Expressions', 'In', 'Python']\n"
     ]
    }
   ],
   "source": [
    "import re\n",
    "\n",
    "A = \"ImportanceOfRegularExpressionsInPython\"\n",
    "B = re.findall(r'[A-Z][a-z]*', A)\n",
    "\n",
    "print(B)"
   ]
  },
  {
   "cell_type": "markdown",
   "id": "b1a6f79b",
   "metadata": {},
   "source": [
    "# Question 8- Create a function in python to insert spaces between words starting with numbers."
   ]
  },
  {
   "cell_type": "code",
   "execution_count": 8,
   "id": "a17c6a82",
   "metadata": {},
   "outputs": [
    {
     "name": "stdout",
     "output_type": "stream",
     "text": [
      "RegularExpression1 IsAn2 ImportantTopic3 InPython\n"
     ]
    }
   ],
   "source": [
    "import re\n",
    "\n",
    "x = \"RegularExpression1IsAn2ImportantTopic3InPython\"\n",
    "y = re.sub(r'(\\d)([A-Za-z])', r'\\1 \\2', x)\n",
    "print(y)\n"
   ]
  },
  {
   "cell_type": "markdown",
   "id": "a1087a9f",
   "metadata": {},
   "source": [
    "# Question 9- Create a function in python to insert spaces between words starting with capital letters or with numbers."
   ]
  },
  {
   "cell_type": "code",
   "execution_count": 9,
   "id": "25c464c6",
   "metadata": {},
   "outputs": [
    {
     "name": "stdout",
     "output_type": "stream",
     "text": [
      "R egularE xpression1I sA n2I mportantT opic3I nP ython\n"
     ]
    }
   ],
   "source": [
    "import re\n",
    "\n",
    "x = \"RegularExpression1IsAn2ImportantTopic3InPython\"\n",
    "t = re.sub(r'([A-Z0-9])([a-z])|\\b([a-z])([A-Z0-9])', r'\\1\\3 \\2\\4', x)\n",
    "print(t)\n"
   ]
  },
  {
   "cell_type": "markdown",
   "id": "bfe2aeba",
   "metadata": {},
   "source": [
    "# Question 10- Write a python program to extract email address from the text stored in the text file using Regular Expression."
   ]
  },
  {
   "cell_type": "code",
   "execution_count": 10,
   "id": "f98b816a",
   "metadata": {},
   "outputs": [
    {
     "name": "stdout",
     "output_type": "stream",
     "text": [
      "satyam@gmail.com\n",
      "satyam@datatrained.org\n"
     ]
    }
   ],
   "source": [
    "import re\n",
    "\n",
    "x = \"Hello, my email is satyam@gmail.com. You can also reach me at satyam@datatrained.org.\"\n",
    "\n",
    "y = r'\\b[A-Za-z0-9._%+-]+@[A-Za-z0-9.-]+\\.[A-Za-z]{2,7}\\b'\n",
    "z = re.findall(y, x, re.IGNORECASE)\n",
    "\n",
    "for email in z:\n",
    "    print(email)\n"
   ]
  },
  {
   "cell_type": "markdown",
   "id": "1143e96d",
   "metadata": {},
   "source": [
    "# Question 11- Write a Python program to match a string that contains only upperand lowercase letters, numbers, and underscores. -"
   ]
  },
  {
   "cell_type": "code",
   "execution_count": 9,
   "id": "9a591e89",
   "metadata": {},
   "outputs": [
    {
     "name": "stdout",
     "output_type": "stream",
     "text": [
      "'sabnam' is a valid string.\n",
      "'ruby' is a valid string.\n",
      "'fatima_rajiya' is a valid string.\n",
      "'apple' is a valid string.\n"
     ]
    }
   ],
   "source": [
    "x = [\"sabnam\", \"ruby\", \"fatima_rajiya\", \"apple\"]\n",
    "\n",
    "for string in x:\n",
    "    if string.replace('_', '').isalnum():\n",
    "        print(f\"'{string}' is a valid string.\")\n",
    "    else:\n",
    "        print(f\"'{string}' is not a valid string.\")\n"
   ]
  },
  {
   "cell_type": "markdown",
   "id": "06beaf93",
   "metadata": {},
   "source": [
    "# Question 12- Write a Python program where a string will start with a specific number. "
   ]
  },
  {
   "cell_type": "code",
   "execution_count": 10,
   "id": "176212f4",
   "metadata": {},
   "outputs": [
    {
     "name": "stdout",
     "output_type": "stream",
     "text": [
      "Enter a string: 123all set\n",
      "Enter a specific number: 12\n",
      "The string '123all set' starts with the number 12.\n"
     ]
    }
   ],
   "source": [
    "input_string = input(\"Enter a string: \")\n",
    "specific_number = input(\"Enter a specific number: \")\n",
    "\n",
    "print(f\"The string '{input_string}' {'starts' if input_string.startswith(specific_number) else 'does not start'} with the number {specific_number}.\")"
   ]
  },
  {
   "cell_type": "markdown",
   "id": "8fa1dc18",
   "metadata": {},
   "source": [
    "# Question 13- Write a Python program to remove leading zeros from an IP address\n"
   ]
  },
  {
   "cell_type": "code",
   "execution_count": 11,
   "id": "b52634d4",
   "metadata": {},
   "outputs": [
    {
     "name": "stdout",
     "output_type": "stream",
     "text": [
      "Enter an IP address: 123.304.0034.709.0008\n",
      "IP address with leading zeros removed: 123.304.34.709.8\n"
     ]
    }
   ],
   "source": [
    "ip_address = input(\"Enter an IP address: \")\n",
    "parts = ip_address.split('.')\n",
    "cleaned_parts = [str(int(part)) for part in parts]\n",
    "cleaned_ip = '.'.join(cleaned_parts)\n",
    "print(\"IP address with leading zeros removed:\", cleaned_ip)"
   ]
  },
  {
   "cell_type": "markdown",
   "id": "ab650b87",
   "metadata": {},
   "source": [
    "# Question 14- Write a regular expression in python to match a date string in the form of Month name followed by day number and year stored in a text file.\n"
   ]
  },
  {
   "cell_type": "code",
   "execution_count": 12,
   "id": "5cb5be22",
   "metadata": {},
   "outputs": [
    {
     "name": "stdout",
     "output_type": "stream",
     "text": [
      "Extracted date: August 15th 1947\n"
     ]
    }
   ],
   "source": [
    "import re\n",
    "\n",
    "\n",
    "sample_text = \"On August 15th 1947 that India was declared independent from British colonialism.\"\n",
    "\n",
    "\n",
    "date_pattern = r'\\b(?:January|February|March|April|May|June|July|August|September|October|November|December)\\s+\\d{1,2}(?:st|nd|rd|th)?\\s+\\d{4}\\b'\n",
    "date_match = re.search(date_pattern, sample_text)\n",
    "extracted_date = date_match.group() if date_match else \"Date not found\"\n",
    "\n",
    "print(\"Extracted date:\", extracted_date)"
   ]
  },
  {
   "cell_type": "markdown",
   "id": "318a8a7c",
   "metadata": {},
   "source": [
    "# Question 15- Write a Python program to search some literals strings in a string. "
   ]
  },
  {
   "cell_type": "code",
   "execution_count": 13,
   "id": "bfc8a346",
   "metadata": {},
   "outputs": [
    {
     "name": "stdout",
     "output_type": "stream",
     "text": [
      "Found words: ['fox', 'dog']\n"
     ]
    }
   ],
   "source": [
    "sample_text = 'The quick brown fox jumps over the lazy dog.'\n",
    "searched_words = ['fox', 'dog', 'horse']\n",
    "\n",
    "found_words = [word for word in searched_words if word in sample_text]\n",
    "print(\"Found words:\", found_words)"
   ]
  },
  {
   "cell_type": "markdown",
   "id": "8feb3c97",
   "metadata": {},
   "source": [
    "# Question 16- Write a Python program to search a literals string in a string and also find the location within the original string where the pattern occurs"
   ]
  },
  {
   "cell_type": "code",
   "execution_count": 14,
   "id": "4707ad6d",
   "metadata": {},
   "outputs": [
    {
     "name": "stdout",
     "output_type": "stream",
     "text": [
      "Pattern 'fox' found at index: 16\n"
     ]
    }
   ],
   "source": [
    "sample_text = 'The quick brown fox jumps over the lazy dog.'\n",
    "pattern = 'fox'\n",
    "\n",
    "index = sample_text.find(pattern)\n",
    "while index != -1:\n",
    "    print(f\"Pattern '{pattern}' found at index: {index}\")\n",
    "    index = sample_text.find(pattern, index + 1)"
   ]
  },
  {
   "cell_type": "markdown",
   "id": "4c312f95",
   "metadata": {},
   "source": [
    "# Question 17- Write a Python program to find the substrings within a string."
   ]
  },
  {
   "cell_type": "code",
   "execution_count": 15,
   "id": "e51c1a03",
   "metadata": {},
   "outputs": [
    {
     "name": "stdout",
     "output_type": "stream",
     "text": [
      "The pattern 'exercises' was found at positions: [7, 22, 36]\n"
     ]
    }
   ],
   "source": [
    "sample_text = 'Python exercises, PHP exercises, C# exercises'\n",
    "pattern = 'exercises'\n",
    "\n",
    "positions = [index for index in range(len(sample_text)) if sample_text.startswith(pattern, index)]\n",
    "if positions:\n",
    "    print(f\"The pattern '{pattern}' was found at positions:\", positions)\n",
    "else:\n",
    "    print(f\"The pattern '{pattern}' was not found in the text.\")"
   ]
  },
  {
   "cell_type": "markdown",
   "id": "57568ae6",
   "metadata": {},
   "source": [
    "# Question 18- Write a Python program to find the occurrence and position of the substrings within a string."
   ]
  },
  {
   "cell_type": "code",
   "execution_count": 16,
   "id": "fdea3e52",
   "metadata": {},
   "outputs": [
    {
     "name": "stdout",
     "output_type": "stream",
     "text": [
      "The substring 'exercises' was found at positions: [7, 22, 36, 66]\n",
      "Total occurrences: 4\n"
     ]
    }
   ],
   "source": [
    "sample_text = 'Python exercises, PHP exercises, C# exercises, Python programming exercises'\n",
    "substring = 'exercises'\n",
    "\n",
    "positions = [index for index in range(len(sample_text)) if sample_text.startswith(substring, index)]\n",
    "occurrences = len(positions)\n",
    "\n",
    "if occurrences > 0:\n",
    "    print(f\"The substring '{substring}' was found at positions:\", positions)\n",
    "    print(f\"Total occurrences: {occurrences}\")\n",
    "else:\n",
    "    print(f\"The substring '{substring}' was not found in the text.\")"
   ]
  },
  {
   "cell_type": "markdown",
   "id": "18c14b72",
   "metadata": {},
   "source": [
    "# Question 19- Write a Python program to convert a date of yyyy-mm-dd format to dd-mm-yyyy format. "
   ]
  },
  {
   "cell_type": "code",
   "execution_count": 17,
   "id": "de86f386",
   "metadata": {},
   "outputs": [
    {
     "name": "stdout",
     "output_type": "stream",
     "text": [
      "Enter a date in yyyy-mm-dd format: 2001-03-22\n",
      "Converted date: 22-03-2001\n"
     ]
    }
   ],
   "source": [
    "date_input = input(\"Enter a date in yyyy-mm-dd format: \")\n",
    "year, month, day = date_input.split('-')\n",
    "converted_date = f\"{day}-{month}-{year}\"\n",
    "print(\"Converted date:\", converted_date)"
   ]
  },
  {
   "cell_type": "markdown",
   "id": "357e21b8",
   "metadata": {},
   "source": [
    "#  Question 20- Create a function in python to find all decimal numbers with a precision of 1 or 2 in a string. The use of the re.compile() method is mandatory."
   ]
  },
  {
   "cell_type": "code",
   "execution_count": 18,
   "id": "199acfec",
   "metadata": {},
   "outputs": [
    {
     "name": "stdout",
     "output_type": "stream",
     "text": [
      "['01.12', '145.8', '3.01', '27.25', '0.25']\n"
     ]
    }
   ],
   "source": [
    "import re\n",
    "sample_text = \"01.12 0132.123 2.31875 145.8 3.01 27.25 0.25\"\n",
    "decimal_pattern = re.compile(r'\\b\\d+\\.\\d{1,2}\\b')\n",
    "decimal_numbers = decimal_pattern.findall(sample_text)\n",
    "print(decimal_numbers)"
   ]
  },
  {
   "cell_type": "markdown",
   "id": "9e590d6f",
   "metadata": {},
   "source": [
    "# Question 21- Write a Python program to separate and print the numbers and their position of a given string."
   ]
  },
  {
   "cell_type": "code",
   "execution_count": 19,
   "id": "1eec4ee1",
   "metadata": {},
   "outputs": [
    {
     "name": "stdout",
     "output_type": "stream",
     "text": [
      "Enter a string: 898976\n",
      "Number: 8, Position: 0\n",
      "Number: 9, Position: 1\n",
      "Number: 8, Position: 2\n",
      "Number: 9, Position: 3\n",
      "Number: 7, Position: 4\n",
      "Number: 6, Position: 5\n"
     ]
    }
   ],
   "source": [
    "input_string = input(\"Enter a string: \")\n",
    "\n",
    "numbers = [(char, index) for index, char in enumerate(input_string) if char.isdigit()]\n",
    "\n",
    "if numbers:\n",
    "    for number, position in numbers:\n",
    "        print(f\"Number: {number}, Position: {position}\")\n",
    "else:\n",
    "    print(\"No numbers found in the string.\")"
   ]
  },
  {
   "cell_type": "markdown",
   "id": "62a11400",
   "metadata": {},
   "source": [
    "# Question 22- Write a regular expression in python program to extract maximum/largest numeric value from a string."
   ]
  },
  {
   "cell_type": "code",
   "execution_count": 22,
   "id": "c8571d52",
   "metadata": {},
   "outputs": [
    {
     "name": "stdout",
     "output_type": "stream",
     "text": [
      "Maximum numeric value: 950\n"
     ]
    }
   ],
   "source": [
    "import re\n",
    "\n",
    "sample_text = 'My marks in each semester are: 947, 896, 926, 524, 734, 950, 642'\n",
    "numeric_values = re.findall(r'\\d+', sample_text)\n",
    "\n",
    "if numeric_values:\n",
    "    maximum_numeric_value = max(map(int, numeric_values))\n",
    "    print(\"Maximum numeric value:\", maximum_numeric_value)\n",
    "else:\n",
    "    print(\"No numeric values found in the text.\")"
   ]
  },
  {
   "cell_type": "markdown",
   "id": "7ece5fcc",
   "metadata": {},
   "source": [
    "# Question 23- Create a function in python to insert spaces between words starting with capital letters."
   ]
  },
  {
   "cell_type": "code",
   "execution_count": 23,
   "id": "6702d271",
   "metadata": {},
   "outputs": [
    {
     "name": "stdout",
     "output_type": "stream",
     "text": [
      "Formatted text: Regular Expression Is An Important Topic In Python\n"
     ]
    }
   ],
   "source": [
    "sample_text = \"RegularExpressionIsAnImportantTopicInPython\"\n",
    "formatted_text = \"\"\n",
    "for char in sample_text:\n",
    "    if char.isupper() and formatted_text and not formatted_text[-1].isspace():\n",
    "        formatted_text += \" \"\n",
    "    formatted_text += char\n",
    "\n",
    "print(\"Formatted text:\", formatted_text)"
   ]
  },
  {
   "cell_type": "markdown",
   "id": "c85c1985",
   "metadata": {},
   "source": [
    "# Question 24- Python regex to find sequences of one upper case letter followed by lower case letters"
   ]
  },
  {
   "cell_type": "code",
   "execution_count": 24,
   "id": "6a8f34cc",
   "metadata": {},
   "outputs": [
    {
     "name": "stdout",
     "output_type": "stream",
     "text": [
      "Matches: ['This', 'Good', 'University', 'Engineering']\n"
     ]
    }
   ],
   "source": [
    "import re\n",
    "\n",
    "pattern = r'[A-Z][a-z]*'\n",
    "\n",
    "text = \"This is a Good University for Engineering.\"\n",
    "matches = re.findall(pattern, text)\n",
    "\n",
    "print(\"Matches:\", matches)"
   ]
  },
  {
   "cell_type": "markdown",
   "id": "8b2ac27b",
   "metadata": {},
   "source": [
    "# Question 25- Write a Python program to remove continuous duplicate words from Sentence using Regular Expression."
   ]
  },
  {
   "cell_type": "code",
   "execution_count": 30,
   "id": "04a0a152",
   "metadata": {},
   "outputs": [
    {
     "name": "stdout",
     "output_type": "stream",
     "text": [
      "Processed text: Hey Rohan, the sample \n"
     ]
    }
   ],
   "source": [
    "import re\n",
    "\n",
    "sample_text = \"Hey Rohan Rohan, the the sample \"\n",
    "pattern = r'\\b(\\w+)(?:\\s+\\1\\b)+'\n",
    "processed_text = re.sub(pattern, r'\\1', sample_text)\n",
    "\n",
    "print(\"Processed text:\", processed_text)"
   ]
  },
  {
   "cell_type": "markdown",
   "id": "a4a60d1f",
   "metadata": {},
   "source": [
    "# Question 26-  Write a python program using RegEx to accept string ending with alphanumeric character."
   ]
  },
  {
   "cell_type": "code",
   "execution_count": 31,
   "id": "3823ccde",
   "metadata": {},
   "outputs": [
    {
     "name": "stdout",
     "output_type": "stream",
     "text": [
      "Enter a string: data Trained112\n",
      "String ends with an alphanumeric character.\n"
     ]
    }
   ],
   "source": [
    "import re\n",
    "\n",
    "user_input = input(\"Enter a string: \")\n",
    "if re.search(r'\\w$', user_input):\n",
    "    print(\"String ends with an alphanumeric character.\")\n",
    "else:\n",
    "    print(\"String does not end with an alphanumeric character.\")"
   ]
  },
  {
   "cell_type": "markdown",
   "id": "c8ec2d3b",
   "metadata": {},
   "source": [
    "# Question 27-Write a python program using RegEx to extract the hashtags."
   ]
  },
  {
   "cell_type": "code",
   "execution_count": 27,
   "id": "47141b9c",
   "metadata": {},
   "outputs": [
    {
     "name": "stdout",
     "output_type": "stream",
     "text": [
      "Enter the sample text: Sample Text:  \"\"\"RT @kapil_kausik: #Doltiwal I mean #xyzabc is \"hurt\" by #Demonetization as the same has rendered USELESS <ed><U+00A0><U+00BD><ed><U+00B1><U+0089> \"acquired funds\" No wo\"\"\"\n",
      "Extracted hashtags: ['#Doltiwal', '#xyzabc', '#Demonetization']\n"
     ]
    }
   ],
   "source": [
    "import re\n",
    "\n",
    "sample_text = input(\"Enter the sample text: \")\n",
    "hashtags = re.findall(r'#\\w+', sample_text)\n",
    "print(\"Extracted hashtags:\", hashtags)\n",
    "\n"
   ]
  },
  {
   "cell_type": "markdown",
   "id": "b066229e",
   "metadata": {},
   "source": [
    "# Question 28- Write a python program using RegEx to remove <U+..> like symbols"
   ]
  },
  {
   "cell_type": "code",
   "execution_count": 28,
   "id": "df931944",
   "metadata": {},
   "outputs": [
    {
     "name": "stdout",
     "output_type": "stream",
     "text": [
      "Enter the sample text: Sample Text: \"@Jags123456 Bharat band on 28??<ed><U+00A0><U+00BD><ed><U+00B8><U+0082>Those who  are protesting #demonetization  are all different party leaders\"\n",
      "expected output: Sample Text: \"@Jags123456 Bharat band on 28??<ed><ed>Those who  are protesting #demonetization  are all different party leaders\"\n"
     ]
    }
   ],
   "source": [
    "import re\n",
    "\n",
    "sample_text = input(\"Enter the sample text: \")\n",
    "cleaned_text = re.sub(r'<U\\+\\w+>', '', sample_text)\n",
    "print(\"expected output:\", cleaned_text)"
   ]
  },
  {
   "cell_type": "markdown",
   "id": "bc271ea6",
   "metadata": {},
   "source": [
    "# Question 29- Write a python program to extract dates from the text stored in the text file."
   ]
  },
  {
   "cell_type": "code",
   "execution_count": 29,
   "id": "b8d5a1b9",
   "metadata": {},
   "outputs": [
    {
     "name": "stdout",
     "output_type": "stream",
     "text": [
      "Enter the sample text: Sample Text: Ron was born on 12-09-1992 and he was admitted to school 15-12-1999.\n",
      "Extracted dates: ['12-09-1992', '15-12-1999']\n"
     ]
    }
   ],
   "source": [
    "import re\n",
    "\n",
    "sample_text = input(\"Enter the sample text: \")\n",
    "dates = re.findall(r'\\d{2}-\\d{2}-\\d{4}', sample_text)\n",
    "\n",
    "print(\"Extracted dates:\", dates)"
   ]
  },
  {
   "cell_type": "markdown",
   "id": "95e70a44",
   "metadata": {},
   "source": [
    "# Question 30- Create a function in python to remove all words from a string of length between 2 and 4.\n",
    "\n"
   ]
  },
  {
   "cell_type": "code",
   "execution_count": 30,
   "id": "b607bdcc",
   "metadata": {},
   "outputs": [
    {
     "name": "stdout",
     "output_type": "stream",
     "text": [
      "Enter the sample text: Sample Text: \"The following example creates an ArrayList with a capacity of 50 elements. 4 elements are then added to the ArrayList and the ArrayList is trimmed accordingly.\"\n",
      "Cleaned text: Sample : \" following example creates  ArrayList  a capacity   elements. 4 elements   added   ArrayList   ArrayList  trimmed accordingly.\"\n"
     ]
    }
   ],
   "source": [
    "import re\n",
    "\n",
    "sample_text = input(\"Enter the sample text: \")\n",
    "word_pattern = re.compile(r'\\b\\w{2,4}\\b')\n",
    "cleaned_text = word_pattern.sub('', sample_text)\n",
    "print(\"Cleaned text:\", cleaned_text)"
   ]
  },
  {
   "cell_type": "code",
   "execution_count": null,
   "id": "82c4f31a",
   "metadata": {},
   "outputs": [],
   "source": []
  }
 ],
 "metadata": {
  "kernelspec": {
   "display_name": "Python 3 (ipykernel)",
   "language": "python",
   "name": "python3"
  },
  "language_info": {
   "codemirror_mode": {
    "name": "ipython",
    "version": 3
   },
   "file_extension": ".py",
   "mimetype": "text/x-python",
   "name": "python",
   "nbconvert_exporter": "python",
   "pygments_lexer": "ipython3",
   "version": "3.11.4"
  }
 },
 "nbformat": 4,
 "nbformat_minor": 5
}
